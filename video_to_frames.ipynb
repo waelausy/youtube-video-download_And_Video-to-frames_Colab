{
 "cells": [
  {
   "cell_type": "code",
   "execution_count": 18,
   "metadata": {},
   "outputs": [
    {
     "name": "stdout",
     "output_type": "stream",
     "text": [
      "Path exists already\n",
      "Number of frames in the video 509 \n",
      "Number of saved images 2\n",
      "\n",
      "End of the program\n"
     ]
    }
   ],
   "source": [
    "# Program To Read video \n",
    "# and Extract Frames \n",
    "\n",
    "import cv2\n",
    "import os, sys\n",
    "\n",
    "# Path to be created\n",
    "path  = \"Frames\"\n",
    "video = \"yolov4 test.mp4\"\n",
    "frame_every = 500                 # Note the frequency of saved frames in the video, for 500, the program will save one image every 500 frames\n",
    "\n",
    "try:\n",
    "    os.mkdir(path)\n",
    "    print(\"Path is created\")\n",
    "except:\n",
    "    print(\"Path exists already\")\n",
    "    pass\n",
    "\n",
    "\n",
    "# Function to extract frames \n",
    "def FrameCapture(path): \n",
    "    # Path to video file \n",
    "    vidObj = cv2.VideoCapture(path) \n",
    "    fps_count = int(vidObj.get(cv2.CAP_PROP_FRAME_COUNT))\n",
    "    print('Number of frames in the video',fps_count,'\\nNumber of saved images',1+int(fps_count/frame_every))\n",
    "    # Used as counter variable \n",
    "    count = 0\n",
    "    # checks whether frames were extracted \n",
    "    success = 1\n",
    "    while success: \n",
    "        # vidObj object calls read \n",
    "        # function extract frames \n",
    "        success, image = vidObj.read() \n",
    "        # Saves the frames with frame-count \n",
    "        if count % frame_every == 0:\n",
    "            cv2.imwrite(\"Frames/frame%d.jpg\" % count, image)\n",
    "        count += 1\n",
    "\n",
    "# Driver Code \n",
    "if __name__ == '__main__': \n",
    "    # Calling the function \n",
    "    FrameCapture(video) \n",
    "    print('\\nEnd of the program')\n"
   ]
  }
 ],
 "metadata": {
  "kernelspec": {
   "display_name": "Python 3",
   "language": "python",
   "name": "python3"
  },
  "language_info": {
   "codemirror_mode": {
    "name": "ipython",
    "version": 3
   },
   "file_extension": ".py",
   "mimetype": "text/x-python",
   "name": "python",
   "nbconvert_exporter": "python",
   "pygments_lexer": "ipython3",
   "version": "3.7.3"
  }
 },
 "nbformat": 4,
 "nbformat_minor": 4
}
