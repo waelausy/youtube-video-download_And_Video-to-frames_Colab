{
 "cells": [
  {
   "cell_type": "code",
   "execution_count": 11,
   "metadata": {},
   "outputs": [
    {
     "name": "stdout",
     "output_type": "stream",
     "text": [
      "Start downloading video: yolov4 test.mp4 [ https://www.youtube.com/watch?v=iQhpFTiFgIY ]\n",
      "Video yolov4 test.mp4 resolution 720p downloaded...\n"
     ]
    }
   ],
   "source": [
    "from pytube import YouTube\n",
    "\n",
    "# construct the argument parser and parse the arguments\n",
    "\n",
    "video_link =       'https://www.youtube.com/watch?v=iQhpFTiFgIY'\n",
    "resolution =  '720p'\n",
    "\n",
    "video = YouTube(str(video_link))\n",
    "print('Start downloading video:',video.streams[0].default_filename,'[',video_link,']')\n",
    "#video.streams.all()\n",
    "#video.streams.get_by_itag(136).download()\n",
    "video.streams.get_by_resolution(resolution).download()\n",
    "\n",
    "print('Video',video.streams[0].default_filename,'resolution',resolution,'downloaded...')"
   ]
  }
 ],
 "metadata": {
  "kernelspec": {
   "display_name": "Python 3",
   "language": "python",
   "name": "python3"
  },
  "language_info": {
   "codemirror_mode": {
    "name": "ipython",
    "version": 3
   },
   "file_extension": ".py",
   "mimetype": "text/x-python",
   "name": "python",
   "nbconvert_exporter": "python",
   "pygments_lexer": "ipython3",
   "version": "3.7.3"
  }
 },
 "nbformat": 4,
 "nbformat_minor": 4
}
